{
 "cells": [
  {
   "cell_type": "markdown",
   "metadata": {},
   "source": [
    "### What if we treat each person as a word in a document"
   ]
  },
  {
   "cell_type": "code",
   "execution_count": 12,
   "metadata": {
    "collapsed": false
   },
   "outputs": [
    {
     "name": "stdout",
     "output_type": "stream",
     "text": [
      "hello\n"
     ]
    }
   ],
   "source": [
    "import os\n",
    "import email\n",
    "print 'hello'"
   ]
  },
  {
   "cell_type": "code",
   "execution_count": 32,
   "metadata": {
    "collapsed": false
   },
   "outputs": [
    {
     "name": "stdout",
     "output_type": "stream",
     "text": [
      "beau@layfam.com -> kenneth.lay@enron.com -->--> None\n",
      "['beau@layfam.com', 'kenneth.lay@enron.com']\n",
      "beau@layfam.com -> kenneth.lay@enron.com -->--> None\n",
      "['beau@layfam.com', 'kenneth.lay@enron.com']\n",
      "barry.pearce@enron.com -> jeff.skilling@enron.com -->--> None\n",
      "['barry.pearce@enron.com', 'jeff.skilling@enron.com']\n",
      "rajen.shah@enron.com -> sara.shackleton@enron.com, tom.doukas@enron.com -->--> marie.heard@enron.com, simon.hemsley@enron.com, david.wall@enron.com, \r\n",
      "\td.jordan@enron.com, rachel.drew@enron.com\n",
      "['rajen.shah@enron.com', 'sara.shackleton@enron.com', 'tom.doukas@enron.com', 'marie.heard@enron.com', 'simon.hemsley@enron.com', 'david.wall@enron.com', 'd.jordan@enron.com', 'rachel.drew@enron.com']\n"
     ]
    }
   ],
   "source": [
    "# create a symlink for enron maildirs in the data subfolder\n",
    "enron_maildir_path = 'data/maildir'\n",
    "def stream_all_enron_file_list(enron_maildir_path):\n",
    "    file_list = [] # ex ['lay-k/inbox/10.', 'skilling-j/notes-inbox/46.', .....]\n",
    "    for root, dirs, files in os.walk(enron_maildir_path):\n",
    "        for xfile in files:\n",
    "            yield root +'/'+ xfile\n",
    "            \n",
    "\n",
    "# all_enron_file_list(enron_maildir_path)\n",
    "# print os.getcwd()\n",
    "file_list = ['data/maildir/lay-k/inbox/10.', 'data/maildir/lay-k/inbox/10.', 'data/maildir/skilling-j/inbox/34.', 'data/maildir/heard-m/inbox/74.']\n",
    "# for xfile in stream_all_enron_file_list(enron_maildir_path):\n",
    "for xfile in file_list:\n",
    "    with open(xfile, 'r') as fp:\n",
    "        message = email.message_from_file(fp)\n",
    "    meta = {k.lower(): v for k, v in message.items()}\n",
    "#     print meta\n",
    "    \n",
    "    xfrom = meta.get('from')\n",
    "    xto = meta.get('to')\n",
    "    xcc = meta.get('cc')\n",
    "    participants = [xfrom, xto, xcc]\n",
    "    \n",
    "    people_array = [x.strip() for y in participants if y is not None\n",
    "                    for x in y.split(',') if x is not None ]\n",
    "#     if(xto is not None):\n",
    "#         xto_array = [x.strip() for x in xto.split(',') if x is not None]\n",
    "    \n",
    "    \n",
    "#     if(xcc is not None):\n",
    "#         xcc_array = [x.strip() for x in xcc.split(',') if x is not None]\n",
    "#     people_sentence = [xfrom] + xto_array + xcc_array\n",
    "    \n",
    "    print xfrom,'->', xto, '-->-->', xcc\n",
    "    print people_array\n",
    "#     break\n"
   ]
  },
  {
   "cell_type": "code",
   "execution_count": null,
   "metadata": {
    "collapsed": true
   },
   "outputs": [],
   "source": []
  }
 ],
 "metadata": {
  "hide_input": false,
  "kernelspec": {
   "display_name": "Python 2",
   "language": "python",
   "name": "python2"
  },
  "language_info": {
   "codemirror_mode": {
    "name": "ipython",
    "version": 2
   },
   "file_extension": ".py",
   "mimetype": "text/x-python",
   "name": "python",
   "nbconvert_exporter": "python",
   "pygments_lexer": "ipython2",
   "version": "2.7.12"
  }
 },
 "nbformat": 4,
 "nbformat_minor": 0
}
