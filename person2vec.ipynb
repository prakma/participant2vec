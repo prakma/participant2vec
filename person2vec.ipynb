{
 "cells": [
  {
   "cell_type": "markdown",
   "metadata": {},
   "source": [
    "### What if we treat each person as a word in a document"
   ]
  },
  {
   "cell_type": "code",
   "execution_count": 18,
   "metadata": {
    "collapsed": false
   },
   "outputs": [
    {
     "name": "stdout",
     "output_type": "stream",
     "text": [
      "\n"
     ]
    }
   ],
   "source": [
    "import os\n",
    "import email\n",
    "import logging\n",
    "import datetime\n",
    "import gensim\n",
    "logger = logging.getLogger()\n",
    "logger.setLevel(logging.INFO)\n"
   ]
  },
  {
   "cell_type": "code",
   "execution_count": null,
   "metadata": {
    "collapsed": true
   },
   "outputs": [],
   "source": []
  },
  {
   "cell_type": "code",
   "execution_count": 22,
   "metadata": {
    "collapsed": false
   },
   "outputs": [],
   "source": [
    "# create a symlink for enron maildirs in the data subfolder\n",
    "\n",
    "\n",
    "\n",
    "\n",
    "\n",
    "\n",
    "def stream_all_enron_file_list(enron_maildir_path):\n",
    "    file_list = [] # ex ['lay-k/inbox/10.', 'skilling-j/notes-inbox/46.', .....]\n",
    "    for root, dirs, files in os.walk(enron_maildir_path):\n",
    "        for xfile in files:\n",
    "            yield root +'/'+ xfile\n",
    "            \n",
    "\n",
    "class Participant2Sentence:\n",
    "    \n",
    "    def __init__(self, enron_mail_dir):\n",
    "        self.enron_mail_dir = enron_mail_dir\n",
    "        self.file_list = ['data/maildir/lay-k/inbox/10.', 'data/maildir/lay-k/inbox/10.', 'data/maildir/skilling-j/inbox/34.', 'data/maildir/heard-m/inbox/74.']\n",
    "    \n",
    "    def __iter__(self):\n",
    "        for xfile in stream_all_enron_file_list(self.enron_mail_dir):\n",
    "        #for xfile in self.file_list:    \n",
    "            with open(xfile, 'r') as fp:\n",
    "                message = email.message_from_file(fp)\n",
    "            meta = {k.lower(): v for k, v in message.items()}\n",
    "            xfrom = meta.get('from')\n",
    "            xto = meta.get('to')\n",
    "            xcc = meta.get('cc')\n",
    "            participants = [xfrom, xto, xcc]\n",
    "            people_array = [x.strip() for y in participants if y is not None\n",
    "                    for x in y.split(',') if x is not None ]\n",
    "            yield people_array\n",
    "            \n",
    "        \n"
   ]
  },
  {
   "cell_type": "code",
   "execution_count": 31,
   "metadata": {
    "collapsed": false
   },
   "outputs": [
    {
     "name": "stdout",
     "output_type": "stream",
     "text": [
      "Training Start Time 2017-12-11 11:29:51.090796\n",
      "Training End Time 2017-12-11 11:37:58.990730\n"
     ]
    }
   ],
   "source": [
    "enron_maildir_path = 'data/maildir'\n",
    "\n",
    "# logging.basicConfig(format='%(asctime)s : %(levelname)s : %(message)s', level=logging.INFO)\n",
    "# logging.basicConfig(level=logging.DEBUG)\n",
    "# logging.basicConfig(format='%(levelname)s:%(message)s', level=logging.DEBUG)\n",
    "logging.info ('this is info test logging')\n",
    "logging.debug ('this is debug test logging')\n",
    "logging.warning('this is warning test logging')\n",
    "print 'Training Start Time', datetime.datetime.now()\n",
    "\n",
    "psentences = Participant2Sentence(enron_maildir_path)\n",
    "\n",
    "# generate the Word2Vec model\n",
    "model = gensim.models.Word2Vec(psentences, min_count=2, window=2)\n",
    "# print model.wv.vocab\n",
    "print 'Training End Time', datetime.datetime.now()"
   ]
  },
  {
   "cell_type": "code",
   "execution_count": 35,
   "metadata": {
    "collapsed": false
   },
   "outputs": [
    {
     "data": {
      "text/plain": [
       "[('jeffrey.skilling@enron.com', 0.7781251668930054),\n",
       " ('markcmo@aol.com', 0.7355946898460388),\n",
       " ('cbarfield@aei.org', 0.7341948747634888),\n",
       " ('david.patton@enron.com', 0.722372829914093),\n",
       " ('scott.mcnealy@engeng.sun.com', 0.7188201546669006),\n",
       " ('imran.syed@enron.com', 0.7085767388343811),\n",
       " ('joseph.sutton@enron.com', 0.7032133340835571),\n",
       " ('romesh_wadhwani@i2.com', 0.700668215751648),\n",
       " ('chill@lrmlaw.com', 0.6959428787231445),\n",
       " ('karen.n.horn@marsh.com', 0.6920455694198608),\n",
       " ('kevin_anderson@npradc.org', 0.6918328404426575),\n",
       " ('ann_rubin@sonyusa.com', 0.6879324913024902),\n",
       " ('fabricio.soares@enron.com', 0.683197021484375),\n",
       " ('kseifert@kcc.com', 0.6809229850769043),\n",
       " ('mrslinda@lplpi.com', 0.6790451407432556),\n",
       " ('chambers@cisco.com', 0.6735363006591797),\n",
       " ('mike.mcconnel@enron.com', 0.670131266117096),\n",
       " ('etblaw@aol.com', 0.6693987846374512),\n",
       " ('emalliance@aol.com', 0.6679046154022217),\n",
       " ('mike.mcconnel@enron.net', 0.6643059253692627)]"
      ]
     },
     "execution_count": 35,
     "metadata": {},
     "output_type": "execute_result"
    }
   ],
   "source": [
    "model.most_similar(positive=['jeff.skilling@enron.com'], topn=20)"
   ]
  },
  {
   "cell_type": "code",
   "execution_count": 34,
   "metadata": {
    "collapsed": false
   },
   "outputs": [
    {
     "data": {
      "text/plain": [
       "[('imran.syed@enron.com', 0.8489411473274231),\n",
       " ('sem@eaccess.net', 0.8319206833839417),\n",
       " ('chambers@cisco.com', 0.826141357421875),\n",
       " ('ann_rubin@sonyusa.com', 0.8234943151473999),\n",
       " ('robert_donohoo@i2.com', 0.8198968172073364),\n",
       " ('david_becker@i2.com', 0.8152657747268677),\n",
       " ('bill_beecher@i2.com', 0.8135020136833191),\n",
       " ('sanjiv_sidhu@i2.com', 0.8117284774780273),\n",
       " ('chadhmuir@yahoo.com', 0.7986106872558594),\n",
       " ('mike.mcconnel@enron.com', 0.7966206073760986),\n",
       " ('mike.mcconnel@enron.net', 0.7887457013130188),\n",
       " ('joseph.sutton@enron.com', 0.7830307483673096),\n",
       " ('mrslinda@lplpi.com', 0.778679609298706),\n",
       " ('tom_meredith@dell.com', 0.7742972373962402),\n",
       " ('karen.n.horn@marsh.com', 0.7737871408462524),\n",
       " ('kseifert@kcc.com', 0.769837498664856),\n",
       " ('romesh_wadhwani@i2.com', 0.7654237151145935),\n",
       " ('sandy_tungare@vistaar.com', 0.7584933638572693),\n",
       " ('herbert_molina@juno.com', 0.7505511045455933),\n",
       " ('lydecker.jr.@enron.com', 0.7462151050567627)]"
      ]
     },
     "execution_count": 34,
     "metadata": {},
     "output_type": "execute_result"
    }
   ],
   "source": [
    "model.most_similar(positive=['kenneth.lay@enron.com','jeff.skilling@enron.com'], topn=20)"
   ]
  },
  {
   "cell_type": "code",
   "execution_count": 36,
   "metadata": {
    "collapsed": false
   },
   "outputs": [
    {
     "data": {
      "text/plain": [
       "0.6053156442622305"
      ]
     },
     "execution_count": 36,
     "metadata": {},
     "output_type": "execute_result"
    }
   ],
   "source": [
    "model.similarity('kenneth.lay@enron.com', 'klay@enron.com')"
   ]
  },
  {
   "cell_type": "code",
   "execution_count": 37,
   "metadata": {
    "collapsed": false
   },
   "outputs": [
    {
     "data": {
      "text/plain": [
       "[('lisa.choquette@enron.com', 0.4661414623260498),\n",
       " ('e-mail <.joana@enron.com>', 0.44009336829185486),\n",
       " ('bruce.hebert@enron.com', 0.4302492141723633),\n",
       " ('tothsl1@bp.com', 0.4290018677711487),\n",
       " ('mike.grubbs@enron.com', 0.42892986536026),\n",
       " ('roy.buchanan@enron.com', 0.3874838948249817),\n",
       " ('mitch.garber@enron.com', 0.37833675742149353),\n",
       " ('soraya.larson@fina.com', 0.3678429126739502),\n",
       " ('ets.omaha_tpc@enron.com', 0.36413949728012085),\n",
       " ('john.toews@enron.com', 0.3639819622039795),\n",
       " ('ecarmetsc@aep.com', 0.357789546251297),\n",
       " ('caldwell.nancy@enron.com', 0.3542526662349701),\n",
       " ('qadirah.gomez@enron.com', 0.3522654175758362),\n",
       " ('jake@calpine.com', 0.35200566053390503),\n",
       " ('jim.meyers@enron.com', 0.3466636538505554),\n",
       " ('shendri@enron.com', 0.3450484871864319),\n",
       " ('btc.bcragg@gmssr.com', 0.34437331557273865),\n",
       " ('eddielynn.morgan@enron.com', 0.34372952580451965),\n",
       " ('steve.merriss@enron.com', 0.3338717520236969),\n",
       " ('keith.brown@groupwise.swgas.com', 0.33108043670654297)]"
      ]
     },
     "execution_count": 37,
     "metadata": {},
     "output_type": "execute_result"
    }
   ],
   "source": [
    "model.most_similar(negative=['jeff.skilling@enron.com'], topn=20)"
   ]
  },
  {
   "cell_type": "code",
   "execution_count": 38,
   "metadata": {
    "collapsed": true
   },
   "outputs": [],
   "source": [
    "model.save('enron.p2v')"
   ]
  },
  {
   "cell_type": "code",
   "execution_count": null,
   "metadata": {
    "collapsed": true
   },
   "outputs": [],
   "source": []
  }
 ],
 "metadata": {
  "hide_input": false,
  "kernelspec": {
   "display_name": "Python 2",
   "language": "python",
   "name": "python2"
  },
  "language_info": {
   "codemirror_mode": {
    "name": "ipython",
    "version": 2
   },
   "file_extension": ".py",
   "mimetype": "text/x-python",
   "name": "python",
   "nbconvert_exporter": "python",
   "pygments_lexer": "ipython2",
   "version": "2.7.12"
  }
 },
 "nbformat": 4,
 "nbformat_minor": 0
}
